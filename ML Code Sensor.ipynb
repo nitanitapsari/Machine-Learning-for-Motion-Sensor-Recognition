{
 "cells": [
  {
   "cell_type": "code",
   "execution_count": 194,
   "metadata": {},
   "outputs": [],
   "source": [
    "import pandas as pd\n",
    "import numpy as np\n",
    "import matplotlib.pyplot as plt\n",
    "from sklearn.model_selection import train_test_split\n",
    "from sklearn.neighbors import KNeighborsClassifier\n",
    "from sklearn.metrics import confusion_matrix, accuracy_score, classification_report\n",
    "from sklearn.preprocessing import MinMaxScaler\n",
    "import seaborn as sns"
   ]
  },
  {
   "cell_type": "code",
   "execution_count": 926,
   "metadata": {},
   "outputs": [
    {
     "data": {
      "text/html": [
       "<div>\n",
       "<style scoped>\n",
       "    .dataframe tbody tr th:only-of-type {\n",
       "        vertical-align: middle;\n",
       "    }\n",
       "\n",
       "    .dataframe tbody tr th {\n",
       "        vertical-align: top;\n",
       "    }\n",
       "\n",
       "    .dataframe thead th {\n",
       "        text-align: right;\n",
       "    }\n",
       "</style>\n",
       "<table border=\"1\" class=\"dataframe\">\n",
       "  <thead>\n",
       "    <tr style=\"text-align: right;\">\n",
       "      <th></th>\n",
       "      <th>Num Category</th>\n",
       "      <th>Category</th>\n",
       "      <th>Time</th>\n",
       "      <th>R/R0</th>\n",
       "      <th>R/R0 1</th>\n",
       "    </tr>\n",
       "  </thead>\n",
       "  <tbody>\n",
       "    <tr>\n",
       "      <th>0</th>\n",
       "      <td>1</td>\n",
       "      <td>Finger</td>\n",
       "      <td>0.128</td>\n",
       "      <td>1.00000</td>\n",
       "      <td>0.94129</td>\n",
       "    </tr>\n",
       "    <tr>\n",
       "      <th>1</th>\n",
       "      <td>1</td>\n",
       "      <td>Finger</td>\n",
       "      <td>0.320</td>\n",
       "      <td>0.99998</td>\n",
       "      <td>1.33073</td>\n",
       "    </tr>\n",
       "    <tr>\n",
       "      <th>2</th>\n",
       "      <td>1</td>\n",
       "      <td>Finger</td>\n",
       "      <td>0.511</td>\n",
       "      <td>1.04770</td>\n",
       "      <td>1.50291</td>\n",
       "    </tr>\n",
       "    <tr>\n",
       "      <th>3</th>\n",
       "      <td>1</td>\n",
       "      <td>Finger</td>\n",
       "      <td>0.703</td>\n",
       "      <td>1.06931</td>\n",
       "      <td>1.53018</td>\n",
       "    </tr>\n",
       "    <tr>\n",
       "      <th>4</th>\n",
       "      <td>1</td>\n",
       "      <td>Finger</td>\n",
       "      <td>0.895</td>\n",
       "      <td>1.23086</td>\n",
       "      <td>1.55011</td>\n",
       "    </tr>\n",
       "  </tbody>\n",
       "</table>\n",
       "</div>"
      ],
      "text/plain": [
       "   Num Category Category   Time     R/R0   R/R0 1\n",
       "0             1   Finger  0.128  1.00000  0.94129\n",
       "1             1   Finger  0.320  0.99998  1.33073\n",
       "2             1   Finger  0.511  1.04770  1.50291\n",
       "3             1   Finger  0.703  1.06931  1.53018\n",
       "4             1   Finger  0.895  1.23086  1.55011"
      ]
     },
     "execution_count": 926,
     "metadata": {},
     "output_type": "execute_result"
    }
   ],
   "source": [
    "#read data\n",
    "\n",
    "#df = pd.read_excel('Data ML New Strain.xlsx')\n",
    "df = pd.read_excel('ML Data Non Wireless.xlsx')\n",
    "df[0:5]"
   ]
  },
  {
   "cell_type": "code",
   "execution_count": 790,
   "metadata": {},
   "outputs": [
    {
     "data": {
      "text/plain": [
       "Category\n",
       "Finger     331\n",
       "Touch      192\n",
       "Writing    148\n",
       "Push Up     98\n",
       "Name: count, dtype: int64"
      ]
     },
     "execution_count": 790,
     "metadata": {},
     "output_type": "execute_result"
    }
   ],
   "source": [
    "#read how many colomns are in the category\n",
    "df['Category'].value_counts()"
   ]
  },
  {
   "cell_type": "code",
   "execution_count": 560,
   "metadata": {},
   "outputs": [
    {
     "data": {
      "text/plain": [
       "(584, 4)"
      ]
     },
     "execution_count": 560,
     "metadata": {},
     "output_type": "execute_result"
    }
   ],
   "source": [
    "#read how many colomns & rows are in the data\n",
    "df.shape"
   ]
  },
  {
   "cell_type": "code",
   "execution_count": 562,
   "metadata": {},
   "outputs": [
    {
     "data": {
      "text/html": [
       "<div>\n",
       "<style scoped>\n",
       "    .dataframe tbody tr th:only-of-type {\n",
       "        vertical-align: middle;\n",
       "    }\n",
       "\n",
       "    .dataframe tbody tr th {\n",
       "        vertical-align: top;\n",
       "    }\n",
       "\n",
       "    .dataframe thead th {\n",
       "        text-align: right;\n",
       "    }\n",
       "</style>\n",
       "<table border=\"1\" class=\"dataframe\">\n",
       "  <thead>\n",
       "    <tr style=\"text-align: right;\">\n",
       "      <th></th>\n",
       "      <th>Num Category</th>\n",
       "      <th>Times (sec)</th>\n",
       "      <th>R/R0</th>\n",
       "    </tr>\n",
       "  </thead>\n",
       "  <tbody>\n",
       "    <tr>\n",
       "      <th>count</th>\n",
       "      <td>584.000000</td>\n",
       "      <td>584.000000</td>\n",
       "      <td>584.000000</td>\n",
       "    </tr>\n",
       "    <tr>\n",
       "      <th>mean</th>\n",
       "      <td>2.525685</td>\n",
       "      <td>12.804308</td>\n",
       "      <td>2.017843</td>\n",
       "    </tr>\n",
       "    <tr>\n",
       "      <th>std</th>\n",
       "      <td>1.136947</td>\n",
       "      <td>7.284384</td>\n",
       "      <td>1.187122</td>\n",
       "    </tr>\n",
       "    <tr>\n",
       "      <th>min</th>\n",
       "      <td>1.000000</td>\n",
       "      <td>0.128000</td>\n",
       "      <td>0.927260</td>\n",
       "    </tr>\n",
       "    <tr>\n",
       "      <th>25%</th>\n",
       "      <td>1.750000</td>\n",
       "      <td>6.548000</td>\n",
       "      <td>1.058265</td>\n",
       "    </tr>\n",
       "    <tr>\n",
       "      <th>50%</th>\n",
       "      <td>3.000000</td>\n",
       "      <td>12.818000</td>\n",
       "      <td>1.499470</td>\n",
       "    </tr>\n",
       "    <tr>\n",
       "      <th>75%</th>\n",
       "      <td>4.000000</td>\n",
       "      <td>18.990000</td>\n",
       "      <td>2.983308</td>\n",
       "    </tr>\n",
       "    <tr>\n",
       "      <th>max</th>\n",
       "      <td>4.000000</td>\n",
       "      <td>27.301000</td>\n",
       "      <td>4.979290</td>\n",
       "    </tr>\n",
       "  </tbody>\n",
       "</table>\n",
       "</div>"
      ],
      "text/plain": [
       "       Num Category  Times (sec)        R/R0\n",
       "count    584.000000   584.000000  584.000000\n",
       "mean       2.525685    12.804308    2.017843\n",
       "std        1.136947     7.284384    1.187122\n",
       "min        1.000000     0.128000    0.927260\n",
       "25%        1.750000     6.548000    1.058265\n",
       "50%        3.000000    12.818000    1.499470\n",
       "75%        4.000000    18.990000    2.983308\n",
       "max        4.000000    27.301000    4.979290"
      ]
     },
     "execution_count": 562,
     "metadata": {},
     "output_type": "execute_result"
    }
   ],
   "source": [
    "#describe the data mathematically\n",
    "df.describe()"
   ]
  },
  {
   "cell_type": "code",
   "execution_count": 564,
   "metadata": {},
   "outputs": [
    {
     "data": {
      "text/plain": [
       "Num Category    0\n",
       "Category        0\n",
       "Times (sec)     0\n",
       "R/R0            0\n",
       "dtype: int64"
      ]
     },
     "execution_count": 564,
     "metadata": {},
     "output_type": "execute_result"
    }
   ],
   "source": [
    "#check the data if there are any empty data / empty columns\n",
    "df.isnull().sum()"
   ]
  },
  {
   "cell_type": "code",
   "execution_count": 445,
   "metadata": {},
   "outputs": [
    {
     "data": {
      "text/plain": [
       "0"
      ]
     },
     "execution_count": 445,
     "metadata": {},
     "output_type": "execute_result"
    }
   ],
   "source": [
    "#check the data if there are any duplicate data\n",
    "df.duplicated().sum()"
   ]
  },
  {
   "cell_type": "code",
   "execution_count": 250,
   "metadata": {},
   "outputs": [],
   "source": [
    "#df['R/R0'].drop_duplicates().sum()\n",
    "#df['R/R0'].duplicated().sum()"
   ]
  },
  {
   "cell_type": "code",
   "execution_count": 447,
   "metadata": {},
   "outputs": [
    {
     "data": {
      "text/html": [
       "<div>\n",
       "<style scoped>\n",
       "    .dataframe tbody tr th:only-of-type {\n",
       "        vertical-align: middle;\n",
       "    }\n",
       "\n",
       "    .dataframe tbody tr th {\n",
       "        vertical-align: top;\n",
       "    }\n",
       "\n",
       "    .dataframe thead th {\n",
       "        text-align: right;\n",
       "    }\n",
       "</style>\n",
       "<table border=\"1\" class=\"dataframe\">\n",
       "  <thead>\n",
       "    <tr style=\"text-align: right;\">\n",
       "      <th></th>\n",
       "      <th>Category</th>\n",
       "      <th>Times (sec)</th>\n",
       "      <th>Strain 50%</th>\n",
       "      <th>Strain 100%</th>\n",
       "      <th>Strain 150%</th>\n",
       "      <th>Strain 200%</th>\n",
       "    </tr>\n",
       "  </thead>\n",
       "  <tbody>\n",
       "    <tr>\n",
       "      <th>0</th>\n",
       "      <td>Fast Stretching Cycles</td>\n",
       "      <td>0.128</td>\n",
       "      <td>1.00000</td>\n",
       "      <td>1.00000</td>\n",
       "      <td>1.00000</td>\n",
       "      <td>1.00000</td>\n",
       "    </tr>\n",
       "    <tr>\n",
       "      <th>1</th>\n",
       "      <td>Fast Stretching Cycles</td>\n",
       "      <td>0.336</td>\n",
       "      <td>0.98540</td>\n",
       "      <td>1.00092</td>\n",
       "      <td>1.00014</td>\n",
       "      <td>1.00070</td>\n",
       "    </tr>\n",
       "    <tr>\n",
       "      <th>2</th>\n",
       "      <td>Fast Stretching Cycles</td>\n",
       "      <td>0.528</td>\n",
       "      <td>0.93557</td>\n",
       "      <td>1.10017</td>\n",
       "      <td>1.00008</td>\n",
       "      <td>1.01065</td>\n",
       "    </tr>\n",
       "    <tr>\n",
       "      <th>3</th>\n",
       "      <td>Fast Stretching Cycles</td>\n",
       "      <td>0.720</td>\n",
       "      <td>0.92807</td>\n",
       "      <td>1.53746</td>\n",
       "      <td>1.00023</td>\n",
       "      <td>1.02886</td>\n",
       "    </tr>\n",
       "    <tr>\n",
       "      <th>4</th>\n",
       "      <td>Fast Stretching Cycles</td>\n",
       "      <td>0.912</td>\n",
       "      <td>0.96292</td>\n",
       "      <td>2.10525</td>\n",
       "      <td>0.99965</td>\n",
       "      <td>1.21656</td>\n",
       "    </tr>\n",
       "  </tbody>\n",
       "</table>\n",
       "</div>"
      ],
      "text/plain": [
       "                 Category  Times (sec)  Strain 50%  Strain 100%  Strain 150%  \\\n",
       "0  Fast Stretching Cycles        0.128     1.00000      1.00000      1.00000   \n",
       "1  Fast Stretching Cycles        0.336     0.98540      1.00092      1.00014   \n",
       "2  Fast Stretching Cycles        0.528     0.93557      1.10017      1.00008   \n",
       "3  Fast Stretching Cycles        0.720     0.92807      1.53746      1.00023   \n",
       "4  Fast Stretching Cycles        0.912     0.96292      2.10525      0.99965   \n",
       "\n",
       "   Strain 200%  \n",
       "0      1.00000  \n",
       "1      1.00070  \n",
       "2      1.01065  \n",
       "3      1.02886  \n",
       "4      1.21656  "
      ]
     },
     "execution_count": 447,
     "metadata": {},
     "output_type": "execute_result"
    }
   ],
   "source": [
    "#check the data again\n",
    "df.head()"
   ]
  },
  {
   "cell_type": "code",
   "execution_count": 928,
   "metadata": {},
   "outputs": [
    {
     "name": "stdout",
     "output_type": "stream",
     "text": [
      "X :  (769, 2)\n",
      "Y :  (769,)\n"
     ]
    }
   ],
   "source": [
    "#divide the data into 2, which are x and y\n",
    "#read how many colomns & rows are in the data x & y\n",
    "\n",
    "#x = df[['Strain 1','Strain 2','Strain 3','Strain 4','Strain 5','Strain 6','Strain 7','Strain 8','Strain 9','Strain 10','Strain 11','Strain 12','Strain 13','Strain 14','Strain 15','Strain 16']]\n",
    "#x = df[['Strain 50%','Strain 100%','Strain 150%','Strain 200%']]\n",
    "x=df[['R/R0','R/R0 1']]\n",
    "y = df['Category']\n",
    "\n",
    "print(\"X : \", x.shape)\n",
    "print(\"Y : \", y.shape)"
   ]
  },
  {
   "cell_type": "code",
   "execution_count": 720,
   "metadata": {},
   "outputs": [
    {
     "name": "stdout",
     "output_type": "stream",
     "text": [
      "Ukuran confusion matrix: (1059, 1059)\n"
     ]
    }
   ],
   "source": [
    "x_test = np.array(x_test)\n",
    "\n",
    "n_classes = len(np.unique(x_test))\n",
    "\n",
    "# Maka ukuran confusion matrix adalah:\n",
    "matrix_size = (n_classes, n_classes)\n",
    "print(\"Ukuran confusion matrix:\", matrix_size)"
   ]
  },
  {
   "cell_type": "code",
   "execution_count": 930,
   "metadata": {},
   "outputs": [],
   "source": [
    "#divide the data into training data and test data\n",
    "x_train, x_test, y_train, y_test = train_test_split(x,y, test_size = 0.3, random_state = 42)"
   ]
  },
  {
   "cell_type": "code",
   "execution_count": 932,
   "metadata": {},
   "outputs": [
    {
     "name": "stdout",
     "output_type": "stream",
     "text": [
      "x_train : ((538, 2))\n",
      "x_test : ((231, 2))\n",
      "y_train : ((538,))\n",
      "y_test : ((231,))\n"
     ]
    }
   ],
   "source": [
    "#check how many colomns & rows are in the data x_train, x_test, y_train, y_test\n",
    "print(f\"x_train : ({x_train.shape})\")\n",
    "print(f\"x_test : ({x_test.shape})\")\n",
    "print(f\"y_train : ({y_train.shape})\")\n",
    "print(f\"y_test : ({y_test.shape})\")"
   ]
  },
  {
   "cell_type": "code",
   "execution_count": 934,
   "metadata": {},
   "outputs": [
    {
     "name": "stdout",
     "output_type": "stream",
     "text": [
      "              precision    recall  f1-score   support\n",
      "\n",
      "      Finger       1.00      0.97      0.99       106\n",
      "     Push Up       0.90      0.70      0.79        27\n",
      "       Touch       0.95      1.00      0.97        57\n",
      "     Writing       0.83      0.95      0.89        41\n",
      "\n",
      "    accuracy                           0.94       231\n",
      "   macro avg       0.92      0.91      0.91       231\n",
      "weighted avg       0.95      0.94      0.94       231\n",
      "\n",
      "KNN accuracy : 94.37%\n"
     ]
    }
   ],
   "source": [
    "#predict the accuracy of the data using KNN classification\n",
    "knn = KNeighborsClassifier(n_neighbors=5)\n",
    "x_train = x_train.fillna(0)\n",
    "knn.fit(x_train, y_train)\n",
    "\n",
    "x_test = x_test.fillna(0)\n",
    "y_pred = knn.predict(x_test)\n",
    "KNN_accuracy = accuracy_score(y_pred, y_test)\n",
    "\n",
    "print(classification_report(y_test, y_pred))\n",
    "print('KNN accuracy : {:.2f}%'.format(KNN_accuracy*100))"
   ]
  },
  {
   "cell_type": "code",
   "execution_count": 766,
   "metadata": {},
   "outputs": [
    {
     "data": {
      "image/png": "[encoded data removed]",
      "text/plain": [
       "<Figure size 600x600 with 2 Axes>"
      ]
     },
     "metadata": {},
     "output_type": "display_data"
    }
   ],
   "source": [
    "cm = confusion_matrix(y_test, y_pred)\n",
    "\n",
    "# Visualize the confusion matrix\n",
    "plt.figure(figsize=(6,6))\n",
    "plt.imshow(cm, cmap='Blues')\n",
    "plt.title('Confusion Matrix')\n",
    "plt.colorbar()\n",
    "plt.xticks(np.arange(len(np.unique(y))), np.unique(y), rotation = 45)\n",
    "plt.yticks(np.arange(len(np.unique(y))), np.unique(y))\n",
    "plt.xlabel('Predicted Label', fontsize = 12)\n",
    "plt.ylabel('Actual Label')\n",
    "for i in range(len(np.unique(y))):\n",
    "    for j in range(len(np.unique(y))):\n",
    "        plt.text(j, i, str(cm[i, j]), ha='center', va='center', color='black')\n",
    "plt.show()"
   ]
  },
  {
   "cell_type": "code",
   "execution_count": 938,
   "metadata": {},
   "outputs": [
    {
     "name": "stdout",
     "output_type": "stream",
     "text": [
      "[[0.97169811 0.         0.02830189 0.        ]\n",
      " [0.         0.7037037  0.         0.2962963 ]\n",
      " [0.         0.         1.         0.        ]\n",
      " [0.         0.04878049 0.         0.95121951]]\n"
     ]
    },
    {
     "data": {
      "image/png": "[encoded data removed]",
      "text/plain": [
       "<Figure size 600x600 with 2 Axes>"
      ]
     },
     "metadata": {},
     "output_type": "display_data"
    }
   ],
   "source": [
    "#from sklearn import svm\n",
    "#clf = svm.SVC(kernel='rbf')\n",
    "#clf.fit(x_train, y_train) \n",
    "#\n",
    "#y_hat = clf.predict(x_test)\n",
    "\n",
    "# Assuming y_test and y_pred are already defined\n",
    "cm = confusion_matrix(y_test, y_pred, normalize='true')  # Normalize the confusion matrix\n",
    "\n",
    "def plot_confusion_matrix(cm, classes,\n",
    "                          normalize=False,\n",
    "                          title='Confusion matrix',\n",
    "                          cmap=plt.cm.Blues):\n",
    "    \"\"\"\n",
    "    This function prints and plots the confusion matrix.\n",
    "    Normalization can be applied by setting `normalize=True`.\n",
    "    \"\"\"\n",
    "    if normalize:\n",
    "        cm = cm.astype('float') / cm.sum(axis=1)[:, np.newaxis]\n",
    "        print(\"Normalized confusion matrix\")\n",
    "    else:\n",
    "        print('Confusion matrix, without normalization')\n",
    "\n",
    "print(cm)\n",
    "\n",
    "# Visualize the normalized confusion matrix\n",
    "plt.figure(figsize=(6, 6))\n",
    "plt.imshow(cm, cmap='Blues')\n",
    "plt.title('Confusion Matrix', fontsize=18)\n",
    "plt.colorbar()\n",
    "plt.xticks(np.arange(len(np.unique(y))), np.unique(y), fontsize=14)\n",
    "plt.yticks(np.arange(len(np.unique(y))), np.unique(y), fontsize=14)\n",
    "plt.xlabel('Predicted Label', fontsize=18)\n",
    "plt.ylabel('Actual Label', fontsize=18)\n",
    "\n",
    "# Display normalized values in the confusion matrix\n",
    "thresh = cm.max() / 2.\n",
    "for i in range(len(np.unique(y))):\n",
    "    for j in range(len(np.unique(y))):\n",
    "        plt.text(j, i, f\"{cm[i, j]:.2f}\", ha='center', va='center', color=\"white\" if cm[i, j] > thresh else \"black\")\n",
    "\n",
    "plt.show()"
   ]
  },
  {
   "cell_type": "code",
   "execution_count": 816,
   "metadata": {
    "scrolled": true
   },
   "outputs": [
    {
     "name": "stdout",
     "output_type": "stream",
     "text": [
      "Normalized confusion matrix\n",
      "[[0.97169811 0.         0.02830189 0.        ]\n",
      " [0.         0.7037037  0.         0.2962963 ]\n",
      " [0.         0.         1.         0.        ]\n",
      " [0.         0.04878049 0.         0.95121951]]\n"
     ]
    },
    {
     "data": {
      "text/plain": [
       "<Figure size 640x480 with 0 Axes>"
      ]
     },
     "metadata": {},
     "output_type": "display_data"
    },
    {
     "data": {
      "image/png": "[encoded data removed]",
      "text/plain": [
       "<Figure size 640x480 with 2 Axes>"
      ]
     },
     "metadata": {},
     "output_type": "display_data"
    }
   ],
   "source": [
    "from sklearn import svm\n",
    "clf = svm.SVC(kernel='rbf')\n",
    "clf.fit(x_train, y_train) \n",
    "\n",
    "yhat = clf.predict(x_test)\n",
    "\n",
    "# Compute confusion matrix\n",
    "# cnf_matrix = confusion_matrix(y_test, yhat)\n",
    "# np.set_printoptions(precision=2)\n",
    "\n",
    "# print (classification_report(y_test, yhat))\n",
    "\n",
    "# plt.figure()\n",
    "#plot_confusion_matrix(cnf_matrix, classes=['Category'],normalize= False,  title='Confusion matrix')\n",
    "\n",
    "import numpy as np\n",
    "import matplotlib.pyplot as plt\n",
    "from sklearn.metrics import confusion_matrix\n",
    "import itertools\n",
    "\n",
    "def plot_confusion_matrix(cm, classes,\n",
    "                          normalize=False,\n",
    "                          title='Confusion matrix',\n",
    "                          cmap=plt.cm.Blues):\n",
    "    \"\"\"\n",
    "    This function prints and plots the confusion matrix.\n",
    "    Normalization can be applied by setting `normalize=True`.\n",
    "    \"\"\"\n",
    "    if normalize:\n",
    "        cm = cm.astype('float') / cm.sum(axis=1)[:, np.newaxis]\n",
    "        print(\"Normalized confusion matrix\")\n",
    "    else:\n",
    "        print('Confusion matrix, without normalization')\n",
    "\n",
    "    print(cm)\n",
    "\n",
    "    plt.figure()\n",
    "    plt.imshow(cm, interpolation='nearest', cmap=cmap)\n",
    "    plt.title(title)\n",
    "    plt.colorbar()\n",
    "    tick_marks = np.arange(len(classes))\n",
    "    plt.xticks(tick_marks, classes, rotation=45)\n",
    "    plt.yticks(tick_marks, classes)\n",
    "\n",
    "    fmt = '.2f' if normalize else 'd'\n",
    "    thresh = cm.max() / 2.\n",
    "    for i, j in itertools.product(range(cm.shape[0]), range(cm.shape[1])):\n",
    "        plt.text(j, i, format(cm[i, j], fmt),\n",
    "                 horizontalalignment=\"center\",\n",
    "                 color=\"white\" if cm[i, j] > thresh else \"black\")\n",
    "\n",
    "    plt.ylabel('Actual label')\n",
    "    plt.xlabel('Predicted label')\n",
    "    plt.tight_layout()\n",
    "    plt.show()\n",
    "\n",
    "# Assuming you have the true labels (y_true) and the predicted labels (y_pred)\n",
    "cnf_matrix = confusion_matrix(y_test, y_pred)\n",
    "\n",
    "plt.figure()\n",
    "plot_confusion_matrix(cnf_matrix, classes =['Constant Strain','Fast Stretching','Load Sensitivity','Slow Stretching'], normalize=True, title='Confusion matrix')"
   ]
  },
  {
   "cell_type": "code",
   "execution_count": null,
   "metadata": {},
   "outputs": [],
   "source": []
  }
 ],
 "metadata": {
  "kernelspec": {
   "display_name": "Python 3 (ipykernel)",
   "language": "python",
   "name": "python3"
  },
  "language_info": {
   "codemirror_mode": {
    "name": "ipython",
    "version": 3
   },
   "file_extension": ".py",
   "mimetype": "text/x-python",
   "name": "python",
   "nbconvert_exporter": "python",
   "pygments_lexer": "ipython3",
   "version": "3.12.4"
  }
 },
 "nbformat": 4,
 "nbformat_minor": 4
}
